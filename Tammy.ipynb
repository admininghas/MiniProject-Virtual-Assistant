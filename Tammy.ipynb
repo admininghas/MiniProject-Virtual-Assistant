{
 "cells": [
  {
   "cell_type": "code",
   "execution_count": 3,
   "metadata": {},
   "outputs": [],
   "source": [
    "import speech_recognition as sr\n",
    "import pyttsx3\n",
    "import pywhatkit\n",
    "import datetime\n",
    "import wikipedia\n",
    "import pandas as pd\n",
    "import numpy as np"
   ]
  },
  {
   "cell_type": "code",
   "execution_count": 4,
   "metadata": {
    "collapsed": true
   },
   "outputs": [],
   "source": [
    "tweets = pd.read_json('muftimenk_tweet.json')\n",
    "df_tweet = pd.DataFrame(tweets)"
   ]
  },
  {
   "cell_type": "code",
   "execution_count": null,
   "metadata": {},
   "outputs": [],
   "source": [
    "listener = sr.Recognizer()\n",
    "engine = pyttsx3.init()\n",
    "newVoiceRate = 145\n",
    "engine.setProperty('rate',newVoiceRate)\n",
    "\n",
    "# To know or change the voice\n",
    "# voices = engine.getProperty('voices')\n",
    "# engine.setProperty('voice', voices[1].id)\n",
    "\n",
    "engine.say('Hi I am Tammy')\n",
    "engine.say('What can I do for you')\n",
    "engine.runAndWait()\n",
    "\n",
    "def talk(text):\n",
    "    engine.say(text)\n",
    "    engine.runAndWait()\n",
    "\n",
    "def take_command():\n",
    "    try:\n",
    "        with sr.Microphone() as source:\n",
    "            print('listening...')\n",
    "            voice = listener.listen(source)\n",
    "            command = listener.recognize_google(voice)\n",
    "            command = command.lower()\n",
    "            if 'tammy' in command:\n",
    "                command = command.replace('tammy', '')\n",
    "                print(command)\n",
    "    except:\n",
    "        pass\n",
    "    return command\n",
    "\n",
    "def run_tammy():\n",
    "    command = take_command()\n",
    "    print(command)\n",
    "    if 'play' in command:\n",
    "        song = command.replace('play', '')\n",
    "        talk('playing' + song)\n",
    "        pywhatkit.playonyt(song)\n",
    "    elif 'time' in command:\n",
    "        time = datetime.datetime.now().strftime('%H:%M %p')\n",
    "        print(time)\n",
    "        talk('Current time is ' + time)\n",
    "    elif 'date' in command:\n",
    "        talk('sorry, I have a stomachache')\n",
    "    elif 'say' in command:\n",
    "        talk(df_tweet.loc[np.random.choice(np.arange(len(df_tweet)), 1, False)]['clean_tweet'])\n",
    "    elif 'stop' in command:\n",
    "        engine.stop()\n",
    "    elif 'who is' or 'what is' or 'where is' in command:\n",
    "        obj = command.replace('who is', '')\n",
    "        obj = command.replace('what is', '')\n",
    "        obj = command.replace('where is', '')\n",
    "        info = wikipedia.summary(obj, 1)\n",
    "        print(info)\n",
    "        talk(info)\n",
    "    else:\n",
    "        talk('please say the command again, or I am going to search it for you')\n",
    "        pywhatkit.search(command)\n",
    "\n",
    "while True:\n",
    "    run_tammy()\n",
    "        "
   ]
  },
  {
   "cell_type": "code",
   "execution_count": null,
   "metadata": {
    "collapsed": true
   },
   "outputs": [],
   "source": [
    "df_tweet = pd.DataFrame(tweets)\n",
    "engine.say(df_tweet.loc[10]['clean_tweet'])\n",
    "engine.runAndWait()"
   ]
  }
 ],
 "metadata": {
  "kernelspec": {
   "display_name": "Python 3",
   "language": "python",
   "name": "python3"
  }
 },
 "nbformat": 4,
 "nbformat_minor": 2
}
